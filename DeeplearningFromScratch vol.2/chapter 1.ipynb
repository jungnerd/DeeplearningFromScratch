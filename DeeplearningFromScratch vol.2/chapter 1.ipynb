{
 "cells": [
  {
   "cell_type": "code",
   "execution_count": 1,
   "metadata": {},
   "outputs": [
    {
     "data": {
      "text/plain": [
       "numpy.ndarray"
      ]
     },
     "execution_count": 1,
     "metadata": {},
     "output_type": "execute_result"
    }
   ],
   "source": [
    "import numpy as np\n",
    "\n",
    "x = np.array([1, 2, 3])\n",
    "x.__class__\n",
    "x.shape"
   ]
  },
  {
   "cell_type": "code",
   "execution_count": 2,
   "metadata": {},
   "outputs": [
    {
     "data": {
      "text/plain": [
       "(3,)"
      ]
     },
     "execution_count": 2,
     "metadata": {},
     "output_type": "execute_result"
    }
   ],
   "source": [
    "x.shape"
   ]
  },
  {
   "cell_type": "code",
   "execution_count": 3,
   "metadata": {},
   "outputs": [
    {
     "data": {
      "text/plain": [
       "1"
      ]
     },
     "execution_count": 3,
     "metadata": {},
     "output_type": "execute_result"
    }
   ],
   "source": [
    "x.ndim"
   ]
  },
  {
   "cell_type": "code",
   "execution_count": 5,
   "metadata": {},
   "outputs": [
    {
     "data": {
      "text/plain": [
       "(2, 3)"
      ]
     },
     "execution_count": 5,
     "metadata": {},
     "output_type": "execute_result"
    }
   ],
   "source": [
    "W = np.array([[1, 2, 3], [4, 5, 6]])\n",
    "W.shape"
   ]
  },
  {
   "cell_type": "code",
   "execution_count": 6,
   "metadata": {},
   "outputs": [
    {
     "data": {
      "text/plain": [
       "2"
      ]
     },
     "execution_count": 6,
     "metadata": {},
     "output_type": "execute_result"
    }
   ],
   "source": [
    "W.ndim"
   ]
  },
  {
   "attachments": {},
   "cell_type": "markdown",
   "metadata": {},
   "source": [
    "----------------------------------------------------------------------------------------------------------------"
   ]
  },
  {
   "cell_type": "code",
   "execution_count": 7,
   "metadata": {},
   "outputs": [
    {
     "data": {
      "text/plain": [
       "array([[10, 20],\n",
       "       [30, 40]])"
      ]
     },
     "execution_count": 7,
     "metadata": {},
     "output_type": "execute_result"
    }
   ],
   "source": [
    "A = np.array([[1, 2], [3, 4]])\n",
    "A * 10"
   ]
  },
  {
   "cell_type": "code",
   "execution_count": 11,
   "metadata": {},
   "outputs": [
    {
     "name": "stdout",
     "output_type": "stream",
     "text": [
      "[[ 0.39549722 -0.2728192 ]\n",
      " [ 0.3941871  -0.44218284]\n",
      " [ 0.11335373  0.34202577]\n",
      " [-1.54858608 -1.15047352]\n",
      " [-1.48381074  0.07557748]\n",
      " [ 1.12138734 -1.39272183]\n",
      " [ 0.31444267  0.09898867]\n",
      " [-1.08368275 -0.21879162]\n",
      " [-3.44558047  0.09746159]\n",
      " [ 0.92313149 -1.41310282]]\n",
      "[[ 0.083218    0.07019144 -1.78772346  1.18321802]\n",
      " [ 0.24257903 -0.27019349 -1.88488655  1.26553012]\n",
      " [-0.70480848  0.91746045 -1.15653371  0.96988777]\n",
      " [-0.50557484 -4.31664536 -0.41095012  2.18703335]\n",
      " [-1.61884168 -1.77768367  0.23876545  1.57468718]\n",
      " [ 1.67335023 -1.18604983 -3.14314135  1.50862013]\n",
      " [-0.32791713  0.70381093 -1.49295848  1.02752577]\n",
      " [-1.04802165 -1.82447937 -0.32067494  1.59784566]\n",
      " [-3.07204191 -4.3900065   2.15551917  2.14866315]\n",
      " [ 1.54787615 -1.49522008 -2.96256569  1.57755407]]\n"
     ]
    }
   ],
   "source": [
    "import numpy as np\n",
    "W1 = np.random.randn(2, 4)\n",
    "b1 = np.random.randn(4)\n",
    "x = np.random.randn(10, 2)\n",
    "h = np.matmul(x, W1) + b1\n",
    "print(x)\n",
    "print(h)"
   ]
  },
  {
   "attachments": {},
   "cell_type": "markdown",
   "metadata": {},
   "source": [
    "## sigmoid 함수  \n",
    "<p align=\"center\"><img src=\"sigmoid_image.jpeg\" width=350 />  \n",
    "\n",
    "$$ \\sigma (x) = \\frac{1}{1+exp(-x)}$$  \n"
   ]
  },
  {
   "cell_type": "code",
   "execution_count": 12,
   "metadata": {},
   "outputs": [],
   "source": [
    "def sigmoid(x):\n",
    "    return 1 / (1 + np.exp(-x))"
   ]
  },
  {
   "cell_type": "code",
   "execution_count": 14,
   "metadata": {},
   "outputs": [
    {
     "name": "stdout",
     "output_type": "stream",
     "text": [
      "[[0.5207925  0.51754066 0.14335206 0.76552592]\n",
      " [0.56034911 0.43285959 0.1318286  0.77997662]\n",
      " [0.33074699 0.71452437 0.2392977  0.72509713]\n",
      " [0.37623146 0.01316884 0.39868432 0.89907904]\n",
      " [0.16536468 0.14458939 0.55940939 0.82845078]\n",
      " [0.84202198 0.23396616 0.04136238 0.81885662]\n",
      " [0.4187475  0.66903216 0.18347809 0.73643593]\n",
      " [0.25960518 0.13889725 0.42051127 0.83171707]\n",
      " [0.04427534 0.01224876 0.8961834  0.89554379]\n",
      " [0.82460677 0.18313951 0.04914597 0.82885784]]\n"
     ]
    }
   ],
   "source": [
    "a = sigmoid(h)\n",
    "print(a)    "
   ]
  },
  {
   "cell_type": "code",
   "execution_count": 21,
   "metadata": {},
   "outputs": [
    {
     "name": "stdout",
     "output_type": "stream",
     "text": [
      "[[ 0.38884657  0.64404707 -2.07157866]\n",
      " [ 0.17149014  0.51138197 -2.00026048]\n",
      " [ 0.44811462  0.7052101  -1.58867883]\n",
      " [ 0.1359015   0.49894179 -2.00353942]\n",
      " [ 0.25019305  0.56735892 -1.93253183]\n",
      " [ 0.45368934  0.68378155 -1.9164727 ]\n",
      " [ 0.58189032  0.6959818  -1.22445713]\n",
      " [ 0.58907025  0.71611732 -1.07091867]\n",
      " [ 0.57833167  0.68801722 -1.40340735]\n",
      " [ 0.17434293  0.51369546 -2.03748845]]\n"
     ]
    }
   ],
   "source": [
    "import numpy as np\n",
    "\n",
    "def Sigmoid(x):\n",
    "    return 1 / (1 + np.exp(-x))\n",
    "\n",
    "x = np.random.randn(10, 2)\n",
    "W1 = np.random.randn(2, 4)\n",
    "b1 = np.random.randn(4)\n",
    "W2 = np.random.randn(4, 3)\n",
    "b2 = np.random.randn(3)\n",
    "\n",
    "h = np.matmul(x, W1) + b1\n",
    "a = Sigmoid(h)\n",
    "s = np.matmul(a, W2) + b2\n",
    "\n",
    "print(s)"
   ]
  },
  {
   "attachments": {},
   "cell_type": "markdown",
   "metadata": {},
   "source": [
    "## 1.2.2 계층으로 클래스화 및 순전파 구현"
   ]
  },
  {
   "attachments": {},
   "cell_type": "markdown",
   "metadata": {},
   "source": [
    "---"
   ]
  },
  {
   "attachments": {},
   "cell_type": "markdown",
   "metadata": {},
   "source": [
    "#### 계층의 '구현 규칙'\n",
    "- 모든 계층은 `forward()`와 `backward()` 메서드를 가진다.\n",
    "- 모든 계층은 인스턴스 변수인 `params`와 `grads`를 가진다."
   ]
  },
  {
   "attachments": {},
   "cell_type": "markdown",
   "metadata": {},
   "source": [
    "`forward()` : 순전파 수행  \n",
    "`backward()` : 역전파 수행  \n",
    "`params` : 가중치와 편향 같은 매개변수를 담는 리스트  \n",
    "`grads` : `params`에 저장된 각 매개변수에 대응하여, 해당 매개변수의 기울기를 저장하는 리스트"
   ]
  },
  {
   "attachments": {},
   "cell_type": "markdown",
   "metadata": {},
   "source": [
    "---"
   ]
  },
  {
   "attachments": {},
   "cell_type": "markdown",
   "metadata": {},
   "source": [
    "**Sigmoid layer 구현**"
   ]
  },
  {
   "cell_type": "code",
   "execution_count": 27,
   "metadata": {},
   "outputs": [],
   "source": [
    "# sigmoid layer\n",
    "\n",
    "class Sigmoid:\n",
    "    def __init__(self):\n",
    "        self.params = [] # 학습하는 매개변수가 따로 없기 때문에 빈 리스트로 초기화\n",
    "        \n",
    "    def forward(self, x):\n",
    "        return 1 / (1 + np.exp(-x))\n",
    "    "
   ]
  },
  {
   "attachments": {},
   "cell_type": "markdown",
   "metadata": {},
   "source": [
    "**Affine layer 구현**"
   ]
  },
  {
   "cell_type": "code",
   "execution_count": 28,
   "metadata": {},
   "outputs": [],
   "source": [
    "# Affine layer\n",
    "\n",
    "class Affine:\n",
    "    def __init__(self, W, b):\n",
    "        self.params = [W, b]\n",
    "        \n",
    "    def forward(self, x):\n",
    "        W, b = self.params\n",
    "        out = np.matmul(x, W) + b\n",
    "        return out\n"
   ]
  },
  {
   "attachments": {},
   "cell_type": "markdown",
   "metadata": {},
   "source": [
    "#### TwoLayerNet 구현\n",
    "\n",
    "<p align=\"center\"><img src=\"TwoLayerNet.jpeg\" width=500 />"
   ]
  },
  {
   "cell_type": "code",
   "execution_count": 29,
   "metadata": {},
   "outputs": [],
   "source": [
    "class TwoLayerNet:\n",
    "    def __init__(self, input_size, hidden_size, output_size):\n",
    "        I, H, O = input_size, hidden_size, output_size\n",
    "        \n",
    "        # 가중치와 편향 초기화\n",
    "        W1 = np.random.randn(I, H)\n",
    "        b1 = np.random.randn(H)\n",
    "        W2 = np.random.randn(H, O)\n",
    "        b2 = np.random.randn(O)\n",
    "        \n",
    "        # 계층 생성\n",
    "        self.layers = [\n",
    "            Affine(W1, b1),\n",
    "            Sigmoid(),\n",
    "            Affine(W2, b2)\n",
    "        ]\n",
    "        \n",
    "        # 모든 가중치를 리스트에 모은다.\n",
    "        self.params = []\n",
    "        for layer in self.layers:\n",
    "            self.params += layer.params\n",
    "            \n",
    "    def predict(self, x):\n",
    "        for layer in self.layers:\n",
    "            x = layer.forward(x)\n",
    "            \n",
    "        return x"
   ]
  },
  {
   "cell_type": "code",
   "execution_count": 32,
   "metadata": {},
   "outputs": [
    {
     "data": {
      "text/plain": [
       "array([[1.34095522, 0.74129703, 0.49332718],\n",
       "       [1.97880926, 0.80493484, 0.44497372],\n",
       "       [1.33120103, 0.76049541, 0.52106315],\n",
       "       [2.25694749, 0.58238676, 0.53752804],\n",
       "       [1.77017111, 0.79963216, 0.46025231],\n",
       "       [1.56086742, 0.78166663, 0.48789872],\n",
       "       [1.23235684, 0.75161666, 0.51555359],\n",
       "       [1.26433717, 0.75661633, 0.53026745],\n",
       "       [1.25648095, 0.75523591, 0.51987568],\n",
       "       [2.16437014, 0.76695699, 0.46676306]])"
      ]
     },
     "execution_count": 32,
     "metadata": {},
     "output_type": "execute_result"
    }
   ],
   "source": [
    "x = np.random.randn(10, 2)\n",
    "model = TwoLayerNet(2, 4, 3)\n",
    "model.predict(x)"
   ]
  },
  {
   "cell_type": "markdown",
   "metadata": {},
   "source": [
    "## 1.3 신경망의 학습"
   ]
  },
  {
   "attachments": {},
   "cell_type": "markdown",
   "metadata": {},
   "source": [
    "#### Repeat node"
   ]
  },
  {
   "cell_type": "code",
   "execution_count": 36,
   "metadata": {},
   "outputs": [],
   "source": [
    "import numpy as np\n",
    "D, N = 8, 7\n",
    "x = np.random.randn(1, D)\n",
    "y = np.repeat(x, N, axis=0)"
   ]
  },
  {
   "cell_type": "code",
   "execution_count": 38,
   "metadata": {},
   "outputs": [
    {
     "name": "stdout",
     "output_type": "stream",
     "text": [
      "[[-2.81538876  4.54508744  1.09320473  0.40222119 -3.90729979 -4.49049587\n",
      "   0.85953102  0.24253246]]\n"
     ]
    }
   ],
   "source": [
    "dy = np.random.randn(N, D)\n",
    "dx = np.sum(dy, axis=0, keepdims=True)\n",
    "print(dx)"
   ]
  },
  {
   "attachments": {},
   "cell_type": "markdown",
   "metadata": {},
   "source": [
    "#### Sum node"
   ]
  },
  {
   "cell_type": "code",
   "execution_count": 39,
   "metadata": {},
   "outputs": [],
   "source": [
    "import numpy as np\n",
    "D, N = 8, 7\n",
    "x = np.random.randn(N, D)\n",
    "y = np.sum(x, axis=0, keepdims=True)"
   ]
  },
  {
   "cell_type": "code",
   "execution_count": 40,
   "metadata": {},
   "outputs": [],
   "source": [
    "dy = np.random.randn(1, D)\n",
    "dx = np.repeat(dy, N, axis=0)"
   ]
  },
  {
   "cell_type": "code",
   "execution_count": null,
   "metadata": {},
   "outputs": [],
   "source": []
  }
 ],
 "metadata": {
  "kernelspec": {
   "display_name": "DFS",
   "language": "python",
   "name": "python3"
  },
  "language_info": {
   "codemirror_mode": {
    "name": "ipython",
    "version": 3
   },
   "file_extension": ".py",
   "mimetype": "text/x-python",
   "name": "python",
   "nbconvert_exporter": "python",
   "pygments_lexer": "ipython3",
   "version": "3.11.0"
  },
  "orig_nbformat": 4,
  "vscode": {
   "interpreter": {
    "hash": "33b74bab0fec893163167075ebb5fbfd876641cef9fd5ca1cfd7c962d3e2808d"
   }
  }
 },
 "nbformat": 4,
 "nbformat_minor": 2
}
