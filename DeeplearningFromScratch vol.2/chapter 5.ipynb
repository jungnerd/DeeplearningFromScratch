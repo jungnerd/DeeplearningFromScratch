{
 "cells": [
  {
   "attachments": {},
   "cell_type": "markdown",
   "metadata": {},
   "source": [
    "# Chapter 5. 순환 신경망(RNN)"
   ]
  },
  {
   "attachments": {},
   "cell_type": "markdown",
   "metadata": {},
   "source": [
    "지금까지 살펴본 신경망은 `피드포워드(feed forward)` 라는 유형의 신경망  \n",
    "- `피드 포워드` : 흐름이 단방향인 신경망\n",
    "  - 장점 : 구성이 단순하여 구조를 이해하기 쉽고 많은 문제에 응용 가능\n",
    "  - 단점 : 시계열 데이터를 잘 다루지 못함"
   ]
  },
  {
   "attachments": {},
   "cell_type": "markdown",
   "metadata": {},
   "source": [
    "#### 이번 단원의 목표 : `피드포워드`의 문제점을 지적하고, `RNN`의 구조를 이해해 그 문제점을 해결"
   ]
  },
  {
   "attachments": {},
   "cell_type": "markdown",
   "metadata": {},
   "source": [
    "## 5.1 확률과 언어 모델"
   ]
  },
  {
   "attachments": {},
   "cell_type": "markdown",
   "metadata": {},
   "source": [
    "### 5.1.1 `word2vec`을 확률 관점에서 바라보다"
   ]
  },
  {
   "attachments": {},
   "cell_type": "markdown",
   "metadata": {},
   "source": [
    "#### `word2vec` 의 `CBOW` 모델"
   ]
  },
  {
   "attachments": {},
   "cell_type": "markdown",
   "metadata": {},
   "source": [
    "$ w_1, w_2, ..., w_{T} $ 라는 단어열로 표현되는 말뭉치을 생각"
   ]
  },
  {
   "attachments": {},
   "cell_type": "markdown",
   "metadata": {},
   "source": [
    "$w_{t-1}$과 $w_{t+1}$이 주어졌을 때 타깃이 $w_{t}$가 될 확률 (윈도우 크기가 1일 때)"
   ]
  },
  {
   "attachments": {},
   "cell_type": "markdown",
   "metadata": {},
   "source": [
    "$$ P(w_t | w_{t-1}, w_{t+1})$$"
   ]
  },
  {
   "attachments": {},
   "cell_type": "markdown",
   "metadata": {},
   "source": [
    "맥락을 좌우 대칭이 아니라 왼쪽 윈도우만으로 한정해서 생각해보자.  \n",
    "<img src=\"./master/images/fig 5-2.png\" width=600/>"
   ]
  },
  {
   "attachments": {},
   "cell_type": "markdown",
   "metadata": {},
   "source": [
    "$$ P(w_t | w_{t-2}, w_{t-1})$$"
   ]
  },
  {
   "attachments": {},
   "cell_type": "markdown",
   "metadata": {},
   "source": [
    "`교차 엔트로피 오차`를 이용해서 구한 위 식의 손실 함수  \n",
    "$$L = -\\log P(w_t | w_{t-1}, w_{t+1})$$"
   ]
  },
  {
   "attachments": {},
   "cell_type": "markdown",
   "metadata": {},
   "source": [
    "### 5.1.2 언어 모델"
   ]
  },
  {
   "attachments": {},
   "cell_type": "markdown",
   "metadata": {},
   "source": [
    "- `언어 모델` : 단어 나열에 확률을 부여. 특정한 단어의 시퀀스에 대해서, 그 시퀀스가 얼마나 자연스러운지 확률로 평가\n",
    "- `언어 모델`은 새로운 문장을 생성하는 용도로도 이용할 수 있다.\n",
    "- `CBOW` 모델은 단어 순서를 무시하기 때문에 `언어 모델`로 적합하지 않다.\n",
    "- `RNN(순환신경망)`은 긴 시계열 데이터에도 대응할 수 있다."
   ]
  },
  {
   "attachments": {},
   "cell_type": "markdown",
   "metadata": {},
   "source": [
    "## 5.2 RNN이란"
   ]
  },
  {
   "attachments": {},
   "cell_type": "markdown",
   "metadata": {},
   "source": [
    "### 5.2.1 순환하는 신경망"
   ]
  },
  {
   "attachments": {},
   "cell_type": "markdown",
   "metadata": {},
   "source": [
    "순환하기 위해서는 `닫힌 경로`가 필요"
   ]
  },
  {
   "attachments": {},
   "cell_type": "markdown",
   "metadata": {},
   "source": [
    "<p align = 'left'><img src=\"./master/images/fig 5-6.png\" height=250 /></p>  \n",
    "  \n",
    "- $x_{t}$ : 각 단어의 분산 표현 (단어 벡터)"
   ]
  },
  {
   "attachments": {},
   "cell_type": "markdown",
   "metadata": {},
   "source": [
    "### 5.2.2 순환 구조 펼치기"
   ]
  },
  {
   "attachments": {},
   "cell_type": "markdown",
   "metadata": {},
   "source": [
    "<p align = 'left'><img src=\"./master/images/fig 5-8.png\" height=250 /></p>  \n"
   ]
  },
  {
   "attachments": {},
   "cell_type": "markdown",
   "metadata": {},
   "source": [
    "<p align = 'left'><img src=\"./master/images/e 5-9.png\" /></p>  "
   ]
  },
  {
   "attachments": {},
   "cell_type": "markdown",
   "metadata": {},
   "source": [
    "### 5.2.3 BPTT"
   ]
  },
  {
   "attachments": {},
   "cell_type": "markdown",
   "metadata": {},
   "source": [
    "<p align = 'left'><img src=\"./master/images/fig 5-10.png\" height=200 /></p>  \n"
   ]
  },
  {
   "attachments": {},
   "cell_type": "markdown",
   "metadata": {},
   "source": [
    "`RNN`에서의 오차역전파법은 '시간 방향으로 펼친 신경망의 오차역전파법'이란 뜻으로 `BPTT(Backpropagation Through Time)`라고 한다."
   ]
  },
  {
   "attachments": {},
   "cell_type": "markdown",
   "metadata": {},
   "source": [
    "시계열 데이터의 시간 크기가 커지는 것에 비례하여 `BPTT`가 소비하는 컴퓨팅 자원도 증가한다는 단점이 있다."
   ]
  },
  {
   "attachments": {},
   "cell_type": "markdown",
   "metadata": {},
   "source": [
    "### 5.2.4 Truncated BPTT"
   ]
  },
  {
   "attachments": {},
   "cell_type": "markdown",
   "metadata": {},
   "source": [
    "`BPTT`의 문제를 해결하기 위해, 신경망을 적당한 지점에서 잘라서 작은 신경망 여러 개로 만드는 `Truncated BPTT`를 사용한다."
   ]
  },
  {
   "attachments": {},
   "cell_type": "markdown",
   "metadata": {},
   "source": [
    "<p align = 'left'><img src=\"./master/images/fig 5-14.png\" height=300 /></p>  \n"
   ]
  },
  {
   "attachments": {},
   "cell_type": "markdown",
   "metadata": {},
   "source": [
    "### 5.2.5 Truncated BPTT의 미니배치 학습"
   ]
  },
  {
   "attachments": {},
   "cell_type": "markdown",
   "metadata": {},
   "source": [
    "<p align = 'left'><img src=\"./master/images/fig 5-15.png\" height=500 /></p>  \n"
   ]
  },
  {
   "attachments": {},
   "cell_type": "markdown",
   "metadata": {},
   "source": [
    "- 길이가 1000인 시계열 데이터\n",
    "- 시각의 길이를 10개로 자르는 `Truncated BPTT` 로 학습\n",
    "- 미니배치의 수 : 2개"
   ]
  },
  {
   "attachments": {},
   "cell_type": "markdown",
   "metadata": {},
   "source": [
    "## 5.3 RNN 구현"
   ]
  },
  {
   "attachments": {},
   "cell_type": "markdown",
   "metadata": {},
   "source": [
    "<p align = 'left'><img src=\"./master/images/fig 5-17.png\" height=300 /></p>  \n"
   ]
  },
  {
   "attachments": {},
   "cell_type": "markdown",
   "metadata": {},
   "source": [
    "- `Time RNN` 계층 내에서 한 단계의 작업을 수행하는 계층 : `RNN` 계층\n",
    "- $T$ 개 단계분의 작업을 한꺼번에 처리하는 계층 : `Time RNN` 계층"
   ]
  },
  {
   "attachments": {},
   "cell_type": "markdown",
   "metadata": {},
   "source": [
    "### 5.3.1 RNN 계층 구현"
   ]
  },
  {
   "attachments": {},
   "cell_type": "markdown",
   "metadata": {},
   "source": [
    "<p align = 'left'><img src=\"./master/images/fig 5-18.png\" height=200 /></p>  \n",
    "  \n",
    "#### forward 구현\n"
   ]
  },
  {
   "cell_type": "code",
   "execution_count": 2,
   "metadata": {},
   "outputs": [],
   "source": [
    "import numpy as np\n",
    "\n",
    "class RNN:\n",
    "    def __init__(self, Wx, Wh, b):\n",
    "        self.params = [Wx, Wh, b]\n",
    "        self.grads = [np.zeros_like(Wx), np.zeros_like(Wh), np.zeros_like(b)]\n",
    "        self.cache = None\n",
    "        \n",
    "    def forward(self, x, h_prev):\n",
    "        Wx, Wh, b = self.params\n",
    "        t = np.matmul(h_prev, Wh) + np.matmul(x, Wx) + b\n",
    "        h_next = np.tanh(t)\n",
    "        \n",
    "        self.cache = (x, h_prev, h_next)\n",
    "        return h_next"
   ]
  },
  {
   "attachments": {},
   "cell_type": "markdown",
   "metadata": {},
   "source": [
    "<p align = 'left'><img src=\"./master/images/fig 5-20.png\" height=300 /></p>  \n",
    "  \n",
    "#### backward 구현"
   ]
  },
  {
   "cell_type": "code",
   "execution_count": 3,
   "metadata": {},
   "outputs": [],
   "source": [
    "\n",
    "import numpy as np\n",
    "\n",
    "class RNN:\n",
    "    def __init__(self, Wx, Wh, b):\n",
    "        self.params = [Wx, Wh, b]\n",
    "        self.grads = [np.zeros_like(Wx), np.zeros_like(Wh), np.zeros_like(b)]\n",
    "        self.cache = None\n",
    "        \n",
    "    def forward(self, x, h_prev):\n",
    "        Wx, Wh, b = self.params\n",
    "        t = np.matmul(h_prev, Wh) + np.matmul(x, Wx) + b\n",
    "        h_next = np.tanh(t)\n",
    "        \n",
    "        self.cache = (x, h_prev, h_next)\n",
    "        return h_next\n",
    "\n",
    "    def backward(self, dh_next):\n",
    "        Wx, Wh, b = self.params\n",
    "        x, h_prev, h_next = self.cache\n",
    "        \n",
    "        dt = dh_next * (1 - h_next ** 2)\n",
    "        db = np.sum(dt, axis=0)\n",
    "        dWh = np.matmul(h_prev.T, dt)\n",
    "        dh_prev = np.matmul(dt, Wh.t)\n",
    "        dWx = np.matmul(x.T, dt)\n",
    "        dx = np.matmul(dt, Wx.T)\n",
    "        \n",
    "        self.grads[0][...] = dWx\n",
    "        self.grads[1][...] = dWh\n",
    "        self.grads[2][...] = db\n",
    "        \n",
    "        return dx, dh_prev"
   ]
  },
  {
   "attachments": {},
   "cell_type": "markdown",
   "metadata": {},
   "source": [
    "### 5.3.2 Time RNN 계층 구현"
   ]
  },
  {
   "cell_type": "code",
   "execution_count": 7,
   "metadata": {},
   "outputs": [],
   "source": [
    "class TimeRNN:\n",
    "    def __init__(self, Wx, Wh, b, stateful=False): # stateful : 은닉 상태를 인계받을지\n",
    "        self.params = [Wx, Wh, b]\n",
    "        self.grads = [np.zeros_like(Wx), np.zeros_like(Wh), np.zeros_like(b)]\n",
    "        self.layers = None\n",
    "        \n",
    "        self.h, self.dh = None\n",
    "        self.stateful = stateful\n",
    "        \n",
    "    def set_state(self, h):\n",
    "        self.h = h\n",
    "        \n",
    "    def reset_state(self):\n",
    "        self.h = None\n",
    "        \n",
    "#forward()#####################################################################################\n",
    "    def forward(self, xs):\n",
    "        Wx, Wh, b = self.params\n",
    "        N, T, D = xs.shape\n",
    "        D, H = Wx.shape\n",
    "        \n",
    "        self.layers = []\n",
    "        hs = np.empty((N, T, H), dtype='f')\n",
    "        \n",
    "        if not self.stateful or self.h is None:\n",
    "            self.h = np.zeros((N, H), dtype='f')\n",
    "            \n",
    "        for t in range(T):\n",
    "            layer = RNN(*self.params)\n",
    "            self.h = layer.forward(xs[:, t, :], self.h)\n",
    "            hs[:, t, :] = self.h\n",
    "            self.layers.append(layer)\n",
    "            \n",
    "        return hs\n",
    "\n",
    "#backward()######################################################################################\n",
    "    def backward(self, dhs):\n",
    "        Wx, Wh, b = self.params\n",
    "        N, T, H = dhs.shape\n",
    "        D, H = Wx.shape\n",
    "        \n",
    "        dxs = np.empty((N, T, D), dtype='f')\n",
    "        dh = 0\n",
    "        grads = [0, 0, 0]\n",
    "        for t in reversed(range(T)):\n",
    "            layer = self.layers[t]\n",
    "            dx, dh = layer.backward(dhs[:, t, :] + dh) # 합산된 기울기 (?)\n",
    "            dxs[:, t, :] = dx\n",
    "            \n",
    "            for i, grad in enumerate(layer.grads):\n",
    "                grads[i] += grad\n",
    "                \n",
    "        for i, grad in enumerate(grads):\n",
    "            self.grads[i][...] = grad\n",
    "        self.dh = dh\n",
    "        \n",
    "        return dxs"
   ]
  },
  {
   "attachments": {},
   "cell_type": "markdown",
   "metadata": {},
   "source": [
    "## 5.4 시계열 데이터 처리 계층 구현"
   ]
  },
  {
   "attachments": {},
   "cell_type": "markdown",
   "metadata": {},
   "source": [
    "`RNNLM` - RNN Language Model"
   ]
  },
  {
   "attachments": {},
   "cell_type": "markdown",
   "metadata": {},
   "source": [
    "### 5.4.1 RNNLM의 전체 그림"
   ]
  },
  {
   "attachments": {},
   "cell_type": "markdown",
   "metadata": {},
   "source": [
    "<p align = 'left'><img src=\"./master/images/fig 5-25.png\" height=400 /></p>  \n"
   ]
  },
  {
   "attachments": {},
   "cell_type": "markdown",
   "metadata": {},
   "source": [
    "1. `Embedding` : 단어 ID를 단어의 분산 표현(단어 벡터)으로 변환합니다.\n",
    "2. `RNN` : 은닉 상태를 다음 층으로 출력함과 동시에, 다음 시간의 RNN 계층으로 출력합니다.\n",
    "3. `Affine` : RNN 계층이 위로 출력한 은닉 상태는 Affine 계층을 거칩니다. \n",
    "4. `Softmax` : 마지막 출력"
   ]
  },
  {
   "attachments": {},
   "cell_type": "markdown",
   "metadata": {},
   "source": [
    "`RNNLM` 모델은 **특정 단어 다음에 어떤 단어가 올지 예측**한다."
   ]
  },
  {
   "attachments": {},
   "cell_type": "markdown",
   "metadata": {},
   "source": [
    "### 5.4.2 Time 계층 구현"
   ]
  },
  {
   "attachments": {},
   "cell_type": "markdown",
   "metadata": {},
   "source": [
    "#### Time Embedding"
   ]
  },
  {
   "cell_type": "code",
   "execution_count": 10,
   "metadata": {},
   "outputs": [],
   "source": [
    "from common.layers import *\n",
    "\n",
    "class TimeEmbedding:\n",
    "    def __init__(self, W):\n",
    "        self.params = [W]\n",
    "        self.grads = [np.zeros_like(W)]\n",
    "        self.layers = None\n",
    "        self.W = W\n",
    "        \n",
    "    def forward(self, xs):\n",
    "        N, T = xs.shape\n",
    "        V, D = self.W.shape\n",
    "        \n",
    "        out = np.empty((N, T, D), dtype='f')\n",
    "        self.layers = []\n",
    "        \n",
    "        for t in range(T):\n",
    "            layer = Embedding(self.W)\n",
    "            out[:, t, :] = layer.forward(xs[:, t])\n",
    "            self.layers.append(layer)\n",
    "            \n",
    "        return out\n",
    "    \n",
    "    def backward(self, dout):\n",
    "        N, T, D = dout.shape\n",
    "        \n",
    "        grad = 0\n",
    "        for t in range(T):\n",
    "            layer = self.layers[t]\n",
    "            layer.backward(dout[:, t, :])\n",
    "            grad += layer.grad[0]\n",
    "            \n",
    "        self.grads[0][...] = grad\n",
    "        return None"
   ]
  },
  {
   "attachments": {},
   "cell_type": "markdown",
   "metadata": {},
   "source": [
    "## 5.5 RNNLM 학습과 평가"
   ]
  },
  {
   "attachments": {},
   "cell_type": "markdown",
   "metadata": {},
   "source": [
    "### 5.5.1 RNNLM 구현"
   ]
  },
  {
   "attachments": {},
   "cell_type": "markdown",
   "metadata": {},
   "source": [
    "<p align = 'left'><img src=\"./master/images/fig 5-30.png\" width=400 /></p>  \n"
   ]
  },
  {
   "cell_type": "code",
   "execution_count": 3,
   "metadata": {},
   "outputs": [],
   "source": [
    "import sys\n",
    "sys.path.append('..')\n",
    "import numpy as np\n",
    "from common.time_layers import *\n",
    "\n",
    "class SimpleRnnlm:\n",
    "    def __init__(self, vocab_size, wordvec_size, hidden_size):\n",
    "        V, D, H = vocab_size, wordvec_size, hidden_size\n",
    "        rn = np.random.randn\n",
    "        \n",
    "        # 가중치 초기화\n",
    "        embed_W = (rn(V, D) / 100).astype('f')\n",
    "        rnn_Wx = (rn(D, H) / np.sqrt(D)).astype('f')\n",
    "        rnn_Wh = (rn(H, H) / np.sqrt(H)).astype('f')\n",
    "        rnn_b = np.zeros(H).astype('f')\n",
    "        affine_W = (rn(H, V) / np.sqrt(H)).astype('f')\n",
    "        affine_b = np.zeros(V).astype('f')\n",
    "        \n",
    "        # 계층 생성\n",
    "        self.layers = [\n",
    "            TimeEmbedding(embed_W),\n",
    "            TimeRNN(rnn_Wx, rnn_Wh, rnn_b, stateful=True),\n",
    "            TimeAffine(affine_W, affine_b)\n",
    "        ]\n",
    "        self.loss_layer = TimeSoftmaxWithLoss()\n",
    "        self.rnn_layer = self.layers[1]\n",
    "        \n",
    "        # 모든 가중치의 기울기를 리스트에 모은다.\n",
    "        self.params, self.grads = [], []\n",
    "        for layer in self.layers:\n",
    "            self.params += layer.params\n",
    "            self.grads += layer.grads\n",
    "            \n",
    "    def forward(self, xs, ts):\n",
    "        for layer in self.layers:\n",
    "            xs = layer.forward(xs)\n",
    "        loss = self.loss_layer.forward(xs, ts)\n",
    "        return loss\n",
    "    \n",
    "    def backward(self, dout=1):\n",
    "        dout = self.loss_layer.backward(dout)\n",
    "        for layer in reversed(self.layers):\n",
    "            dout = layer.backward(dout)\n",
    "        return dout\n",
    "    \n",
    "    def reset_state(self):\n",
    "        self.rnn_layer.reset_state() # TODO : reset_state 가 뭔데?\n",
    "        \n",
    "        "
   ]
  },
  {
   "attachments": {},
   "cell_type": "markdown",
   "metadata": {},
   "source": [
    "### 5.5.2 언어 모델의 평가"
   ]
  },
  {
   "attachments": {},
   "cell_type": "markdown",
   "metadata": {},
   "source": [
    "`perplexity` 를 사용해서 언어 모델을 평가한다."
   ]
  },
  {
   "attachments": {},
   "cell_type": "markdown",
   "metadata": {},
   "source": [
    "### 5.5.3 RNNLM의 학습 코드"
   ]
  },
  {
   "cell_type": "code",
   "execution_count": 4,
   "metadata": {},
   "outputs": [
    {
     "name": "stdout",
     "output_type": "stream",
     "text": [
      "말뭉치 크기: 1000, 어휘 수: 418\n",
      "| 에폭 1 | 퍼플렉서티 407.24\n",
      "| 에폭 2 | 퍼플렉서티 288.55\n",
      "| 에폭 3 | 퍼플렉서티 225.03\n",
      "| 에폭 4 | 퍼플렉서티 214.61\n",
      "| 에폭 5 | 퍼플렉서티 205.26\n",
      "| 에폭 6 | 퍼플렉서티 203.18\n",
      "| 에폭 7 | 퍼플렉서티 198.96\n",
      "| 에폭 8 | 퍼플렉서티 196.43\n",
      "| 에폭 9 | 퍼플렉서티 191.38\n",
      "| 에폭 10 | 퍼플렉서티 192.82\n",
      "| 에폭 11 | 퍼플렉서티 188.47\n",
      "| 에폭 12 | 퍼플렉서티 191.69\n",
      "| 에폭 13 | 퍼플렉서티 188.72\n",
      "| 에폭 14 | 퍼플렉서티 189.81\n",
      "| 에폭 15 | 퍼플렉서티 188.98\n",
      "| 에폭 16 | 퍼플렉서티 185.43\n",
      "| 에폭 17 | 퍼플렉서티 182.72\n",
      "| 에폭 18 | 퍼플렉서티 180.46\n",
      "| 에폭 19 | 퍼플렉서티 181.28\n",
      "| 에폭 20 | 퍼플렉서티 183.78\n",
      "| 에폭 21 | 퍼플렉서티 181.01\n",
      "| 에폭 22 | 퍼플렉서티 177.81\n",
      "| 에폭 23 | 퍼플렉서티 172.74\n",
      "| 에폭 24 | 퍼플렉서티 175.96\n",
      "| 에폭 25 | 퍼플렉서티 170.65\n",
      "| 에폭 26 | 퍼플렉서티 170.22\n",
      "| 에폭 27 | 퍼플렉서티 167.14\n",
      "| 에폭 28 | 퍼플렉서티 163.70\n",
      "| 에폭 29 | 퍼플렉서티 161.65\n",
      "| 에폭 30 | 퍼플렉서티 155.49\n",
      "| 에폭 31 | 퍼플렉서티 154.55\n",
      "| 에폭 32 | 퍼플렉서티 150.53\n",
      "| 에폭 33 | 퍼플렉서티 148.93\n",
      "| 에폭 34 | 퍼플렉서티 143.75\n",
      "| 에폭 35 | 퍼플렉서티 142.63\n",
      "| 에폭 36 | 퍼플렉서티 136.57\n",
      "| 에폭 37 | 퍼플렉서티 131.05\n",
      "| 에폭 38 | 퍼플렉서티 127.72\n",
      "| 에폭 39 | 퍼플렉서티 122.37\n",
      "| 에폭 40 | 퍼플렉서티 116.11\n",
      "| 에폭 41 | 퍼플렉서티 117.88\n",
      "| 에폭 42 | 퍼플렉서티 111.70\n",
      "| 에폭 43 | 퍼플렉서티 104.26\n",
      "| 에폭 44 | 퍼플렉서티 101.28\n",
      "| 에폭 45 | 퍼플렉서티 97.59\n",
      "| 에폭 46 | 퍼플렉서티 96.27\n",
      "| 에폭 47 | 퍼플렉서티 90.52\n",
      "| 에폭 48 | 퍼플렉서티 85.42\n",
      "| 에폭 49 | 퍼플렉서티 83.78\n",
      "| 에폭 50 | 퍼플렉서티 78.75\n",
      "| 에폭 51 | 퍼플렉서티 74.87\n",
      "| 에폭 52 | 퍼플렉서티 71.89\n",
      "| 에폭 53 | 퍼플렉서티 67.28\n",
      "| 에폭 54 | 퍼플렉서티 66.15\n",
      "| 에폭 55 | 퍼플렉서티 61.62\n",
      "| 에폭 56 | 퍼플렉서티 57.71\n",
      "| 에폭 57 | 퍼플렉서티 54.81\n",
      "| 에폭 58 | 퍼플렉서티 51.46\n",
      "| 에폭 59 | 퍼플렉서티 49.32\n",
      "| 에폭 60 | 퍼플렉서티 46.13\n",
      "| 에폭 61 | 퍼플렉서티 44.68\n",
      "| 에폭 62 | 퍼플렉서티 41.13\n",
      "| 에폭 63 | 퍼플렉서티 38.84\n",
      "| 에폭 64 | 퍼플렉서티 37.13\n",
      "| 에폭 65 | 퍼플렉서티 35.51\n",
      "| 에폭 66 | 퍼플렉서티 33.01\n",
      "| 에폭 67 | 퍼플렉서티 32.56\n",
      "| 에폭 68 | 퍼플렉서티 29.80\n",
      "| 에폭 69 | 퍼플렉서티 28.33\n",
      "| 에폭 70 | 퍼플렉서티 26.97\n",
      "| 에폭 71 | 퍼플렉서티 25.30\n",
      "| 에폭 72 | 퍼플렉서티 23.29\n",
      "| 에폭 73 | 퍼플렉서티 22.64\n",
      "| 에폭 74 | 퍼플렉서티 21.77\n",
      "| 에폭 75 | 퍼플렉서티 21.54\n",
      "| 에폭 76 | 퍼플렉서티 18.62\n",
      "| 에폭 77 | 퍼플렉서티 18.89\n",
      "| 에폭 78 | 퍼플렉서티 17.52\n",
      "| 에폭 79 | 퍼플렉서티 16.77\n",
      "| 에폭 80 | 퍼플렉서티 15.83\n",
      "| 에폭 81 | 퍼플렉서티 14.57\n",
      "| 에폭 82 | 퍼플렉서티 14.34\n",
      "| 에폭 83 | 퍼플렉서티 13.31\n",
      "| 에폭 84 | 퍼플렉서티 12.91\n",
      "| 에폭 85 | 퍼플렉서티 11.84\n",
      "| 에폭 86 | 퍼플렉서티 11.17\n",
      "| 에폭 87 | 퍼플렉서티 11.31\n",
      "| 에폭 88 | 퍼플렉서티 10.47\n",
      "| 에폭 89 | 퍼플렉서티 9.99\n",
      "| 에폭 90 | 퍼플렉서티 8.88\n",
      "| 에폭 91 | 퍼플렉서티 8.99\n",
      "| 에폭 92 | 퍼플렉서티 8.46\n",
      "| 에폭 93 | 퍼플렉서티 8.33\n",
      "| 에폭 94 | 퍼플렉서티 8.09\n",
      "| 에폭 95 | 퍼플렉서티 7.56\n",
      "| 에폭 96 | 퍼플렉서티 6.76\n",
      "| 에폭 97 | 퍼플렉서티 6.67\n",
      "| 에폭 98 | 퍼플렉서티 6.44\n",
      "| 에폭 99 | 퍼플렉서티 5.75\n",
      "| 에폭 100 | 퍼플렉서티 5.52\n"
     ]
    }
   ],
   "source": [
    "import sys\n",
    "sys.path.append('..')\n",
    "import matplotlib.pyplot as plt\n",
    "import numpy as np\n",
    "from common.optimizer import SGD\n",
    "from dataset import ptb\n",
    "# from simple_rnnlm import SimpleRnnlm\n",
    "\n",
    "# 하이퍼파라미터 설정\n",
    "batch_size = 10\n",
    "wordvec_size = 100\n",
    "hidden_size = 100 # RNN의 은닉 상태 벡터의 원소 수\n",
    "time_size = 5 # Truncated BPTT가 한 번에 펼치는 시간 크기\n",
    "lr = 0.1\n",
    "max_epoch = 100\n",
    "\n",
    "# 학습 데이터 읽기 (전체 중 1000개만)\n",
    "corpus, word_to_id, id_to_word = ptb.load_data('train')\n",
    "corpus_size = 1000\n",
    "corpus = corpus[:corpus_size]\n",
    "vocab_size = int(max(corpus) + 1) # TODO\n",
    "\n",
    "xs = corpus[:-1] # 입력 TODO\n",
    "ts = corpus[1:] # 출력(정답 레이블) TODO\n",
    "data_size = len(xs)\n",
    "print(\"말뭉치 크기: %d, 어휘 수: %d\" % (corpus_size, vocab_size))\n",
    "\n",
    "# 학습 시 사용하는 변수\n",
    "max_iters = data_size // (batch_size * time_size)\n",
    "time_idx = 0\n",
    "total_loss = 0\n",
    "loss_count = 0\n",
    "ppl_list = []\n",
    "\n",
    "# 모델 생성\n",
    "model = SimpleRnnlm(vocab_size, wordvec_size, hidden_size)\n",
    "optimizer = SGD(lr)\n",
    "\n",
    "# (1) 각 미니배치에서 샘플을 읽기 시작 위치를 계산\n",
    "jump = (corpus_size - 1) // batch_size\n",
    "offsets = [i * jump for i in range(batch_size)]\n",
    "\n",
    "for epoch in range(max_epoch):\n",
    "    for iter in range(max_iters):\n",
    "        # (2) 미니배치 획득\n",
    "        batch_x = np.empty((batch_size, time_size), dtype='i')\n",
    "        batch_t = np.empty((batch_size, time_size), dtype='i')\n",
    "        for t in range(time_size):\n",
    "            for i, offset in enumerate(offsets):\n",
    "                batch_x[i, t] = xs[(offset + time_idx) % data_size]\n",
    "                batch_t[i, t] = ts[(offset + time_idx) % data_size]\n",
    "            time_idx += 1\n",
    "            \n",
    "        # 기울기를 구하여 매개변수 갱신\n",
    "        loss = model.forward(batch_x, batch_t)\n",
    "        model.backward()\n",
    "        optimizer.update(model.params, model.grads)\n",
    "        total_loss += loss\n",
    "        loss_count += 1\n",
    "        \n",
    "    # (3) Epoch 마다 perplexity 평가\n",
    "    ppl = np.exp(total_loss / loss_count)\n",
    "    print(\"| 에폭 %d | 퍼플렉서티 %.2f\"\n",
    "          % (epoch+1, ppl))\n",
    "    ppl_list.append(float(ppl))\n",
    "    total_loss, loss_count = 0, 0"
   ]
  },
  {
   "attachments": {},
   "cell_type": "markdown",
   "metadata": {},
   "source": [
    "### 5.5.4 RNNLM의 Trainer 클래스"
   ]
  },
  {
   "attachments": {},
   "cell_type": "markdown",
   "metadata": {},
   "source": [
    "`ch05/train.py` 참고"
   ]
  }
 ],
 "metadata": {
  "kernelspec": {
   "display_name": "DFS",
   "language": "python",
   "name": "python3"
  },
  "language_info": {
   "codemirror_mode": {
    "name": "ipython",
    "version": 3
   },
   "file_extension": ".py",
   "mimetype": "text/x-python",
   "name": "python",
   "nbconvert_exporter": "python",
   "pygments_lexer": "ipython3",
   "version": "3.11.0"
  },
  "orig_nbformat": 4,
  "vscode": {
   "interpreter": {
    "hash": "33b74bab0fec893163167075ebb5fbfd876641cef9fd5ca1cfd7c962d3e2808d"
   }
  }
 },
 "nbformat": 4,
 "nbformat_minor": 2
}
